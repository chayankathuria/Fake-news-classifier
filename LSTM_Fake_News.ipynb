{
  "nbformat": 4,
  "nbformat_minor": 0,
  "metadata": {
    "colab": {
      "name": "LSTM_Fake News.ipynb",
      "provenance": []
    },
    "kernelspec": {
      "name": "python3",
      "display_name": "Python 3"
    },
    "accelerator": "GPU"
  },
  "cells": [
    {
      "cell_type": "code",
      "metadata": {
        "id": "NmMK_JMd7Yqy",
        "colab_type": "code",
        "colab": {}
      },
      "source": [
        "import pandas as pd\n",
        "import numpy as np"
      ],
      "execution_count": 0,
      "outputs": []
    },
    {
      "cell_type": "code",
      "metadata": {
        "id": "E2jQ2Z0J7aqA",
        "colab_type": "code",
        "colab": {
          "base_uri": "https://localhost:8080/",
          "height": 221
        },
        "outputId": "6068bac3-667e-43ef-c4d7-950387d00822"
      },
      "source": [
        "df = pd.read_csv('drive/My Drive/LSTM Fake News/train.csv')\n",
        "\n",
        "df.head()"
      ],
      "execution_count": 2,
      "outputs": [
        {
          "output_type": "execute_result",
          "data": {
            "text/html": [
              "<div>\n",
              "<style scoped>\n",
              "    .dataframe tbody tr th:only-of-type {\n",
              "        vertical-align: middle;\n",
              "    }\n",
              "\n",
              "    .dataframe tbody tr th {\n",
              "        vertical-align: top;\n",
              "    }\n",
              "\n",
              "    .dataframe thead th {\n",
              "        text-align: right;\n",
              "    }\n",
              "</style>\n",
              "<table border=\"1\" class=\"dataframe\">\n",
              "  <thead>\n",
              "    <tr style=\"text-align: right;\">\n",
              "      <th></th>\n",
              "      <th>id</th>\n",
              "      <th>title</th>\n",
              "      <th>author</th>\n",
              "      <th>text</th>\n",
              "      <th>label</th>\n",
              "    </tr>\n",
              "  </thead>\n",
              "  <tbody>\n",
              "    <tr>\n",
              "      <th>0</th>\n",
              "      <td>0</td>\n",
              "      <td>House Dem Aide: We Didn’t Even See Comey’s Let...</td>\n",
              "      <td>Darrell Lucus</td>\n",
              "      <td>House Dem Aide: We Didn’t Even See Comey’s Let...</td>\n",
              "      <td>1</td>\n",
              "    </tr>\n",
              "    <tr>\n",
              "      <th>1</th>\n",
              "      <td>1</td>\n",
              "      <td>FLYNN: Hillary Clinton, Big Woman on Campus - ...</td>\n",
              "      <td>Daniel J. Flynn</td>\n",
              "      <td>Ever get the feeling your life circles the rou...</td>\n",
              "      <td>0</td>\n",
              "    </tr>\n",
              "    <tr>\n",
              "      <th>2</th>\n",
              "      <td>2</td>\n",
              "      <td>Why the Truth Might Get You Fired</td>\n",
              "      <td>Consortiumnews.com</td>\n",
              "      <td>Why the Truth Might Get You Fired October 29, ...</td>\n",
              "      <td>1</td>\n",
              "    </tr>\n",
              "    <tr>\n",
              "      <th>3</th>\n",
              "      <td>3</td>\n",
              "      <td>15 Civilians Killed In Single US Airstrike Hav...</td>\n",
              "      <td>Jessica Purkiss</td>\n",
              "      <td>Videos 15 Civilians Killed In Single US Airstr...</td>\n",
              "      <td>1</td>\n",
              "    </tr>\n",
              "    <tr>\n",
              "      <th>4</th>\n",
              "      <td>4</td>\n",
              "      <td>Iranian woman jailed for fictional unpublished...</td>\n",
              "      <td>Howard Portnoy</td>\n",
              "      <td>Print \\nAn Iranian woman has been sentenced to...</td>\n",
              "      <td>1</td>\n",
              "    </tr>\n",
              "  </tbody>\n",
              "</table>\n",
              "</div>"
            ],
            "text/plain": [
              "   id  ... label\n",
              "0   0  ...     1\n",
              "1   1  ...     0\n",
              "2   2  ...     1\n",
              "3   3  ...     1\n",
              "4   4  ...     1\n",
              "\n",
              "[5 rows x 5 columns]"
            ]
          },
          "metadata": {
            "tags": []
          },
          "execution_count": 2
        }
      ]
    },
    {
      "cell_type": "code",
      "metadata": {
        "id": "xAtJJcWK7dK6",
        "colab_type": "code",
        "colab": {
          "base_uri": "https://localhost:8080/",
          "height": 221
        },
        "outputId": "79e63ec2-e22c-445a-8ca8-0b705b888b2e"
      },
      "source": [
        "df.info()"
      ],
      "execution_count": 3,
      "outputs": [
        {
          "output_type": "stream",
          "text": [
            "<class 'pandas.core.frame.DataFrame'>\n",
            "RangeIndex: 20800 entries, 0 to 20799\n",
            "Data columns (total 5 columns):\n",
            " #   Column  Non-Null Count  Dtype \n",
            "---  ------  --------------  ----- \n",
            " 0   id      20800 non-null  int64 \n",
            " 1   title   20242 non-null  object\n",
            " 2   author  18843 non-null  object\n",
            " 3   text    20761 non-null  object\n",
            " 4   label   20800 non-null  int64 \n",
            "dtypes: int64(2), object(3)\n",
            "memory usage: 812.6+ KB\n"
          ],
          "name": "stdout"
        }
      ]
    },
    {
      "cell_type": "code",
      "metadata": {
        "id": "sWbnjsma7emi",
        "colab_type": "code",
        "colab": {}
      },
      "source": [
        "\n",
        "df= df.dropna()\n",
        "\n",
        "X = df.drop('label',axis=1)\n",
        "y = df.label"
      ],
      "execution_count": 0,
      "outputs": []
    },
    {
      "cell_type": "code",
      "metadata": {
        "id": "0AFugJz17evC",
        "colab_type": "code",
        "colab": {
          "base_uri": "https://localhost:8080/",
          "height": 34
        },
        "outputId": "70769192-afe7-49d1-bd74-aa5f6c5ee15d"
      },
      "source": [
        "X.shape"
      ],
      "execution_count": 5,
      "outputs": [
        {
          "output_type": "execute_result",
          "data": {
            "text/plain": [
              "(18285, 4)"
            ]
          },
          "metadata": {
            "tags": []
          },
          "execution_count": 5
        }
      ]
    },
    {
      "cell_type": "code",
      "metadata": {
        "id": "WDTLDtSA7e2Q",
        "colab_type": "code",
        "colab": {
          "base_uri": "https://localhost:8080/",
          "height": 34
        },
        "outputId": "f80dceab-e063-4401-977c-7c62ecce7433"
      },
      "source": [
        "import tensorflow as tf\n",
        "\n",
        "tf.__version__"
      ],
      "execution_count": 6,
      "outputs": [
        {
          "output_type": "execute_result",
          "data": {
            "text/plain": [
              "'2.2.0'"
            ]
          },
          "metadata": {
            "tags": []
          },
          "execution_count": 6
        }
      ]
    },
    {
      "cell_type": "code",
      "metadata": {
        "id": "hgKx6sU57o5i",
        "colab_type": "code",
        "colab": {}
      },
      "source": [
        "\n",
        "from tensorflow.keras.layers import Dense, Embedding, LSTM\n",
        "from tensorflow.keras.preprocessing.sequence import pad_sequences\n",
        "from tensorflow.keras.models import Sequential\n",
        "from tensorflow.keras.preprocessing.text import one_hot"
      ],
      "execution_count": 0,
      "outputs": []
    },
    {
      "cell_type": "code",
      "metadata": {
        "id": "yH9Ir7un9gsb",
        "colab_type": "code",
        "colab": {}
      },
      "source": [
        "vocab_size = 5000"
      ],
      "execution_count": 0,
      "outputs": []
    },
    {
      "cell_type": "code",
      "metadata": {
        "id": "sIcZU0KI-V3u",
        "colab_type": "code",
        "colab": {}
      },
      "source": [
        "messages = X.copy()"
      ],
      "execution_count": 0,
      "outputs": []
    },
    {
      "cell_type": "code",
      "metadata": {
        "id": "JuiQXLTa-ZJo",
        "colab_type": "code",
        "colab": {}
      },
      "source": [
        "messages.reset_index(inplace=True)"
      ],
      "execution_count": 0,
      "outputs": []
    },
    {
      "cell_type": "code",
      "metadata": {
        "id": "uCBy1xaQ-kjH",
        "colab_type": "code",
        "colab": {}
      },
      "source": [
        "import nltk\n",
        "import re\n",
        "from nltk.corpus import stopwords"
      ],
      "execution_count": 0,
      "outputs": []
    },
    {
      "cell_type": "code",
      "metadata": {
        "id": "un6noMUW-ud7",
        "colab_type": "code",
        "colab": {
          "base_uri": "https://localhost:8080/",
          "height": 68
        },
        "outputId": "ce3ba3d9-6502-4c39-a5ce-ab351ef92ee6"
      },
      "source": [
        "# Data Preprocessing\n",
        "from nltk.stem.porter import PorterStemmer\n",
        "ps = PorterStemmer()\n",
        "nltk.download('stopwords')"
      ],
      "execution_count": 15,
      "outputs": [
        {
          "output_type": "stream",
          "text": [
            "[nltk_data] Downloading package stopwords to /root/nltk_data...\n",
            "[nltk_data]   Unzipping corpora/stopwords.zip.\n"
          ],
          "name": "stdout"
        },
        {
          "output_type": "execute_result",
          "data": {
            "text/plain": [
              "True"
            ]
          },
          "metadata": {
            "tags": []
          },
          "execution_count": 15
        }
      ]
    },
    {
      "cell_type": "code",
      "metadata": {
        "id": "7gKRKSfBAEss",
        "colab_type": "code",
        "colab": {}
      },
      "source": [
        "corpus = []\n",
        "for i in range(len(messages)):\n",
        "  #print(i)\n",
        "  review = re.sub('[^a-zA-Z]', ' ', messages['title'][i])\n",
        "  review = review.lower()\n",
        "  review = review.split()\n",
        "  review = [ps.stem(word) for word in review if word not in stopwords.words('english')]\n",
        "  review = ' '.join(review)\n",
        "  corpus.append(review)"
      ],
      "execution_count": 0,
      "outputs": []
    },
    {
      "cell_type": "code",
      "metadata": {
        "id": "MYuUsviYBgGc",
        "colab_type": "code",
        "colab": {
          "base_uri": "https://localhost:8080/",
          "height": 34
        },
        "outputId": "e20e10d8-4945-4c8c-f74c-7c9ceea11a92"
      },
      "source": [
        "len(corpus)"
      ],
      "execution_count": 19,
      "outputs": [
        {
          "output_type": "execute_result",
          "data": {
            "text/plain": [
              "18285"
            ]
          },
          "metadata": {
            "tags": []
          },
          "execution_count": 19
        }
      ]
    },
    {
      "cell_type": "code",
      "metadata": {
        "id": "nA_lRbSPCWhX",
        "colab_type": "code",
        "colab": {}
      },
      "source": [
        "onehot_rep = [one_hot(words, vocab_size) for words in corpus]"
      ],
      "execution_count": 0,
      "outputs": []
    },
    {
      "cell_type": "code",
      "metadata": {
        "id": "MPPhKmJNC4rs",
        "colab_type": "code",
        "colab": {
          "base_uri": "https://localhost:8080/",
          "height": 102
        },
        "outputId": "1710130b-0116-4824-93fe-ac1706bd2553"
      },
      "source": [
        "onehot_rep[:5]"
      ],
      "execution_count": 21,
      "outputs": [
        {
          "output_type": "execute_result",
          "data": {
            "text/plain": [
              "[[242, 4462, 4210, 2930, 4913, 2641, 3230, 134, 1770, 3650],\n",
              " [4007, 3917, 490, 2881, 2113, 2127, 3479],\n",
              " [4905, 1399, 4612, 4964],\n",
              " [1559, 2312, 1795, 4178, 2038, 2410],\n",
              " [171, 2113, 989, 942, 3308, 2322, 2113, 3343, 3959, 3489]]"
            ]
          },
          "metadata": {
            "tags": []
          },
          "execution_count": 21
        }
      ]
    },
    {
      "cell_type": "markdown",
      "metadata": {
        "id": "60Mi4cfBDHrL",
        "colab_type": "text"
      },
      "source": [
        "As can be seen that sentences are of different lengths. Hence padding will be done to make them of equal lenghts."
      ]
    },
    {
      "cell_type": "markdown",
      "metadata": {
        "id": "henj9wA2DYUC",
        "colab_type": "text"
      },
      "source": [
        "## Embedding Representation"
      ]
    },
    {
      "cell_type": "code",
      "metadata": {
        "id": "GP5Sg8WbC-PO",
        "colab_type": "code",
        "colab": {}
      },
      "source": [
        "embedded_docs = pad_sequences(onehot_rep, padding='pre', maxlen=20)"
      ],
      "execution_count": 0,
      "outputs": []
    },
    {
      "cell_type": "code",
      "metadata": {
        "id": "XGXtVWryDQr2",
        "colab_type": "code",
        "colab": {
          "base_uri": "https://localhost:8080/",
          "height": 204
        },
        "outputId": "399a1311-1237-482c-99f1-11c6c510e1db"
      },
      "source": [
        "embedded_docs[:5]"
      ],
      "execution_count": 23,
      "outputs": [
        {
          "output_type": "execute_result",
          "data": {
            "text/plain": [
              "array([[   0,    0,    0,    0,    0,    0,    0,    0,    0,    0,  242,\n",
              "        4462, 4210, 2930, 4913, 2641, 3230,  134, 1770, 3650],\n",
              "       [   0,    0,    0,    0,    0,    0,    0,    0,    0,    0,    0,\n",
              "           0,    0, 4007, 3917,  490, 2881, 2113, 2127, 3479],\n",
              "       [   0,    0,    0,    0,    0,    0,    0,    0,    0,    0,    0,\n",
              "           0,    0,    0,    0,    0, 4905, 1399, 4612, 4964],\n",
              "       [   0,    0,    0,    0,    0,    0,    0,    0,    0,    0,    0,\n",
              "           0,    0,    0, 1559, 2312, 1795, 4178, 2038, 2410],\n",
              "       [   0,    0,    0,    0,    0,    0,    0,    0,    0,    0,  171,\n",
              "        2113,  989,  942, 3308, 2322, 2113, 3343, 3959, 3489]],\n",
              "      dtype=int32)"
            ]
          },
          "metadata": {
            "tags": []
          },
          "execution_count": 23
        }
      ]
    },
    {
      "cell_type": "code",
      "metadata": {
        "id": "UzCh_0v4DzRE",
        "colab_type": "code",
        "colab": {
          "base_uri": "https://localhost:8080/",
          "height": 34
        },
        "outputId": "d21c3587-1657-4cee-ec2a-d13c0a3b7639"
      },
      "source": [
        "len(embedded_docs)"
      ],
      "execution_count": 24,
      "outputs": [
        {
          "output_type": "execute_result",
          "data": {
            "text/plain": [
              "18285"
            ]
          },
          "metadata": {
            "tags": []
          },
          "execution_count": 24
        }
      ]
    },
    {
      "cell_type": "markdown",
      "metadata": {
        "id": "I_s9h1VnEK5A",
        "colab_type": "text"
      },
      "source": [
        "## Creating the Model"
      ]
    },
    {
      "cell_type": "code",
      "metadata": {
        "id": "6O0cGh7PD2oJ",
        "colab_type": "code",
        "colab": {
          "base_uri": "https://localhost:8080/",
          "height": 272
        },
        "outputId": "dcbfd05b-878d-454b-df7e-d3e023effa67"
      },
      "source": [
        "embedding_vector_features = 40\n",
        "model = Sequential()\n",
        "model.add(Embedding(vocab_size, embedding_vector_features, input_length = 20))\n",
        "model.add(LSTM(100))\n",
        "model.add(Dense(1,activation='sigmoid'))\n",
        "model.compile(loss='binary_crossentropy', optimizer = 'adam', metrics = ['accuracy'])\n",
        "print(model.summary())"
      ],
      "execution_count": 25,
      "outputs": [
        {
          "output_type": "stream",
          "text": [
            "Model: \"sequential\"\n",
            "_________________________________________________________________\n",
            "Layer (type)                 Output Shape              Param #   \n",
            "=================================================================\n",
            "embedding (Embedding)        (None, 20, 40)            200000    \n",
            "_________________________________________________________________\n",
            "lstm (LSTM)                  (None, 100)               56400     \n",
            "_________________________________________________________________\n",
            "dense (Dense)                (None, 1)                 101       \n",
            "=================================================================\n",
            "Total params: 256,501\n",
            "Trainable params: 256,501\n",
            "Non-trainable params: 0\n",
            "_________________________________________________________________\n",
            "None\n"
          ],
          "name": "stdout"
        }
      ]
    },
    {
      "cell_type": "markdown",
      "metadata": {
        "id": "ud4DJlilF0yR",
        "colab_type": "text"
      },
      "source": [
        "### Storing text and the labels as numpy arrays to feed the model"
      ]
    },
    {
      "cell_type": "code",
      "metadata": {
        "id": "NKr4c6lFF_EU",
        "colab_type": "code",
        "colab": {}
      },
      "source": [
        "X_final = np.array(embedded_docs)\n",
        "y_final = np.array(y)"
      ],
      "execution_count": 0,
      "outputs": []
    },
    {
      "cell_type": "code",
      "metadata": {
        "id": "_082QUagGMji",
        "colab_type": "code",
        "colab": {}
      },
      "source": [
        "from sklearn.model_selection import train_test_split"
      ],
      "execution_count": 0,
      "outputs": []
    },
    {
      "cell_type": "code",
      "metadata": {
        "id": "uctrlRpyGRxx",
        "colab_type": "code",
        "colab": {}
      },
      "source": [
        "X_train, X_test, y_train, y_test = train_test_split(X_final, y_final, random_state=3, test_size=0.33)"
      ],
      "execution_count": 0,
      "outputs": []
    },
    {
      "cell_type": "markdown",
      "metadata": {
        "id": "_o-F5Qt2Gt8g",
        "colab_type": "text"
      },
      "source": [
        "## Model Training"
      ]
    },
    {
      "cell_type": "code",
      "metadata": {
        "id": "jmM4cttBGoZu",
        "colab_type": "code",
        "colab": {
          "base_uri": "https://localhost:8080/",
          "height": 394
        },
        "outputId": "1a2dc0b3-bc63-43d4-bd43-64d272216902"
      },
      "source": [
        "model.fit(X_train, y_train, validation_data=(X_test, y_test),epochs=10, batch_size=64)"
      ],
      "execution_count": 31,
      "outputs": [
        {
          "output_type": "stream",
          "text": [
            "Epoch 1/10\n",
            "192/192 [==============================] - 2s 9ms/step - loss: 0.3372 - accuracy: 0.8403 - val_loss: 0.1898 - val_accuracy: 0.9221\n",
            "Epoch 2/10\n",
            "192/192 [==============================] - 1s 7ms/step - loss: 0.1390 - accuracy: 0.9439 - val_loss: 0.1812 - val_accuracy: 0.9208\n",
            "Epoch 3/10\n",
            "192/192 [==============================] - 1s 7ms/step - loss: 0.1006 - accuracy: 0.9626 - val_loss: 0.2049 - val_accuracy: 0.9140\n",
            "Epoch 4/10\n",
            "192/192 [==============================] - 1s 7ms/step - loss: 0.0741 - accuracy: 0.9737 - val_loss: 0.2264 - val_accuracy: 0.9225\n",
            "Epoch 5/10\n",
            "192/192 [==============================] - 1s 7ms/step - loss: 0.0498 - accuracy: 0.9830 - val_loss: 0.2300 - val_accuracy: 0.9196\n",
            "Epoch 6/10\n",
            "192/192 [==============================] - 1s 7ms/step - loss: 0.0331 - accuracy: 0.9895 - val_loss: 0.2683 - val_accuracy: 0.9195\n",
            "Epoch 7/10\n",
            "192/192 [==============================] - 1s 7ms/step - loss: 0.0202 - accuracy: 0.9944 - val_loss: 0.4097 - val_accuracy: 0.9152\n",
            "Epoch 8/10\n",
            "192/192 [==============================] - 1s 7ms/step - loss: 0.0140 - accuracy: 0.9967 - val_loss: 0.4550 - val_accuracy: 0.9148\n",
            "Epoch 9/10\n",
            "192/192 [==============================] - 1s 7ms/step - loss: 0.0101 - accuracy: 0.9980 - val_loss: 0.4250 - val_accuracy: 0.9135\n",
            "Epoch 10/10\n",
            "192/192 [==============================] - 1s 7ms/step - loss: 0.0068 - accuracy: 0.9984 - val_loss: 0.5094 - val_accuracy: 0.9180\n"
          ],
          "name": "stdout"
        },
        {
          "output_type": "execute_result",
          "data": {
            "text/plain": [
              "<tensorflow.python.keras.callbacks.History at 0x7fe010064a20>"
            ]
          },
          "metadata": {
            "tags": []
          },
          "execution_count": 31
        }
      ]
    },
    {
      "cell_type": "markdown",
      "metadata": {
        "id": "6r-9hKMvHcmC",
        "colab_type": "text"
      },
      "source": [
        "## Metrics"
      ]
    },
    {
      "cell_type": "code",
      "metadata": {
        "id": "rrZVnfc1He50",
        "colab_type": "code",
        "colab": {}
      },
      "source": [
        "from sklearn.metrics import accuracy_score"
      ],
      "execution_count": 0,
      "outputs": []
    },
    {
      "cell_type": "code",
      "metadata": {
        "id": "zri0LE1UHteV",
        "colab_type": "code",
        "colab": {
          "base_uri": "https://localhost:8080/",
          "height": 88
        },
        "outputId": "18293467-d87f-425d-955f-0fc379cfe7dc"
      },
      "source": [
        "y_pred = model.predict_classes(X_test)"
      ],
      "execution_count": 34,
      "outputs": [
        {
          "output_type": "stream",
          "text": [
            "WARNING:tensorflow:From <ipython-input-34-fdaaf2360398>:1: Sequential.predict_classes (from tensorflow.python.keras.engine.sequential) is deprecated and will be removed after 2021-01-01.\n",
            "Instructions for updating:\n",
            "Please use instead:* `np.argmax(model.predict(x), axis=-1)`,   if your model does multi-class classification   (e.g. if it uses a `softmax` last-layer activation).* `(model.predict(x) > 0.5).astype(\"int32\")`,   if your model does binary classification   (e.g. if it uses a `sigmoid` last-layer activation).\n"
          ],
          "name": "stdout"
        }
      ]
    },
    {
      "cell_type": "code",
      "metadata": {
        "id": "pIGgKlZhHjX_",
        "colab_type": "code",
        "colab": {
          "base_uri": "https://localhost:8080/",
          "height": 34
        },
        "outputId": "cd18f749-7353-476f-e03b-febe08e320ed"
      },
      "source": [
        "accuracy_score(y_test, y_pred)"
      ],
      "execution_count": 35,
      "outputs": [
        {
          "output_type": "execute_result",
          "data": {
            "text/plain": [
              "0.9179784589892295"
            ]
          },
          "metadata": {
            "tags": []
          },
          "execution_count": 35
        }
      ]
    },
    {
      "cell_type": "markdown",
      "metadata": {
        "id": "bYIN-srWHRn4",
        "colab_type": "text"
      },
      "source": [
        "## Adding Dropout"
      ]
    },
    {
      "cell_type": "code",
      "metadata": {
        "id": "1HRi40FqHoPd",
        "colab_type": "code",
        "colab": {}
      },
      "source": [
        "from tensorflow.keras.layers import Dropout"
      ],
      "execution_count": 0,
      "outputs": []
    },
    {
      "cell_type": "code",
      "metadata": {
        "id": "et9WvKACIMZW",
        "colab_type": "code",
        "colab": {
          "base_uri": "https://localhost:8080/",
          "height": 306
        },
        "outputId": "b9f41ff9-7216-4cb3-d2be-81944800f730"
      },
      "source": [
        "embedding_vector_features = 40\n",
        "model2 = Sequential()\n",
        "model2.add(Embedding(vocab_size, embedding_vector_features, input_length = 20))\n",
        "model2.add(LSTM(100))\n",
        "model2.add(Dropout(0.))\n",
        "model2.add(Dense(1,activation='sigmoid'))\n",
        "model2.compile(loss='binary_crossentropy', optimizer = 'adam', metrics = ['accuracy'])\n",
        "print(model2.summary())"
      ],
      "execution_count": 43,
      "outputs": [
        {
          "output_type": "stream",
          "text": [
            "Model: \"sequential_4\"\n",
            "_________________________________________________________________\n",
            "Layer (type)                 Output Shape              Param #   \n",
            "=================================================================\n",
            "embedding_4 (Embedding)      (None, 20, 40)            200000    \n",
            "_________________________________________________________________\n",
            "lstm_4 (LSTM)                (None, 100)               56400     \n",
            "_________________________________________________________________\n",
            "dropout_4 (Dropout)          (None, 100)               0         \n",
            "_________________________________________________________________\n",
            "dense_4 (Dense)              (None, 1)                 101       \n",
            "=================================================================\n",
            "Total params: 256,501\n",
            "Trainable params: 256,501\n",
            "Non-trainable params: 0\n",
            "_________________________________________________________________\n",
            "None\n"
          ],
          "name": "stdout"
        }
      ]
    },
    {
      "cell_type": "code",
      "metadata": {
        "id": "-ooSA0N-IbC_",
        "colab_type": "code",
        "colab": {
          "base_uri": "https://localhost:8080/",
          "height": 394
        },
        "outputId": "6e77c516-289e-47c2-88c0-82c461119dc0"
      },
      "source": [
        "model2.fit(X_train, y_train, validation_data=(X_test, y_test), epochs=10, batch_size=64)"
      ],
      "execution_count": 44,
      "outputs": [
        {
          "output_type": "stream",
          "text": [
            "Epoch 1/10\n",
            "192/192 [==============================] - 2s 9ms/step - loss: 0.3334 - accuracy: 0.8442 - val_loss: 0.1813 - val_accuracy: 0.9246\n",
            "Epoch 2/10\n",
            "192/192 [==============================] - 1s 7ms/step - loss: 0.1412 - accuracy: 0.9436 - val_loss: 0.1868 - val_accuracy: 0.9210\n",
            "Epoch 3/10\n",
            "192/192 [==============================] - 1s 7ms/step - loss: 0.0983 - accuracy: 0.9616 - val_loss: 0.1942 - val_accuracy: 0.9200\n",
            "Epoch 4/10\n",
            "192/192 [==============================] - 1s 7ms/step - loss: 0.0701 - accuracy: 0.9755 - val_loss: 0.2385 - val_accuracy: 0.9112\n",
            "Epoch 5/10\n",
            "192/192 [==============================] - 1s 7ms/step - loss: 0.0448 - accuracy: 0.9849 - val_loss: 0.2962 - val_accuracy: 0.9165\n",
            "Epoch 6/10\n",
            "192/192 [==============================] - 1s 7ms/step - loss: 0.0291 - accuracy: 0.9909 - val_loss: 0.3077 - val_accuracy: 0.9133\n",
            "Epoch 7/10\n",
            "192/192 [==============================] - 1s 7ms/step - loss: 0.0170 - accuracy: 0.9956 - val_loss: 0.3486 - val_accuracy: 0.9163\n",
            "Epoch 8/10\n",
            "192/192 [==============================] - 1s 7ms/step - loss: 0.0131 - accuracy: 0.9964 - val_loss: 0.4338 - val_accuracy: 0.9092\n",
            "Epoch 9/10\n",
            "192/192 [==============================] - 1s 7ms/step - loss: 0.0077 - accuracy: 0.9980 - val_loss: 0.5071 - val_accuracy: 0.9123\n",
            "Epoch 10/10\n",
            "192/192 [==============================] - 1s 7ms/step - loss: 0.0050 - accuracy: 0.9991 - val_loss: 0.6035 - val_accuracy: 0.9077\n"
          ],
          "name": "stdout"
        },
        {
          "output_type": "execute_result",
          "data": {
            "text/plain": [
              "<tensorflow.python.keras.callbacks.History at 0x7fdf87125f60>"
            ]
          },
          "metadata": {
            "tags": []
          },
          "execution_count": 44
        }
      ]
    },
    {
      "cell_type": "code",
      "metadata": {
        "id": "jAfquCNoInUK",
        "colab_type": "code",
        "colab": {}
      },
      "source": [
        ""
      ],
      "execution_count": 0,
      "outputs": []
    }
  ]
}